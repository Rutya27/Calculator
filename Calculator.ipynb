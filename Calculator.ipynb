{
 "cells": [
  {
   "cell_type": "markdown",
   "id": "ca129d19",
   "metadata": {},
   "source": [
    "# -:Codesoft Internship Tasks :-"
   ]
  },
  {
   "cell_type": "markdown",
   "id": "7d159dbf",
   "metadata": {},
   "source": [
    "# Task:-1"
   ]
  },
  {
   "cell_type": "markdown",
   "id": "0d7249c6",
   "metadata": {},
   "source": [
    "# Calculator:\n",
    "                     The program is a simple claculator that allows users to input two numbers and choose an arithmetic operation (addition,subtraction,multiplication,or division ).it then calculates the result of the selected operation and dosplay it to the user. the program includes error handling for division by zero and provides a user-friendly interface with clear instractions."
   ]
  },
  {
   "cell_type": "code",
   "execution_count": 1,
   "id": "1961d529",
   "metadata": {},
   "outputs": [
    {
     "name": "stdout",
     "output_type": "stream",
     "text": [
      "select operation:\n",
      "1.Addition\n",
      "2.Subtraction\n",
      "3.Multiplication\n",
      "4.Divide\n",
      " enter choice (1/2/3/4):1\n",
      "enter first number:25\n",
      "enter second number:25\n",
      "25.0 + 25.0 = 50.0\n"
     ]
    }
   ],
   "source": [
    "def Addition(x,y):\n",
    "    return x+y\n",
    "def Subtraction(x,y):\n",
    "    return x-y\n",
    "def Multiplication(x,y):\n",
    "    return x*y\n",
    "def Division (x,y):\n",
    "    if y==0:\n",
    "        return \"error:division by zero\"\n",
    "    else:\n",
    "        return x/y\n",
    "print(\"select operation:\")\n",
    "print(\"1.Addition\")\n",
    "print(\"2.Subtraction\")\n",
    "print(\"3.Multiplication\")\n",
    "print(\"4.Divide\")\n",
    "choice = input(\" enter choice (1/2/3/4):\")\n",
    "num1 = float(input(\"enter first number:\"))\n",
    "num2 = float (input(\"enter second number:\"))\n",
    "if choice == '1':\n",
    "    print(num1,\"+\",num2,\"=\",Addition(num1,num2))\n",
    "elif choice =='2':\n",
    "    print(num1,\"-\",num2,\"=\",Subtraction(num1,num2))\n",
    "elif choice == '3':\n",
    "    print(num1,\"*\",num2,\"=\",Multiplication(num1,num2))\n",
    "elif choice =='4':\n",
    "    print(num1,\"/\",num2,\"=\",Division(num1,num2))\n",
    "else:\n",
    "    print(\"invalid input\")"
   ]
  },
  {
   "cell_type": "code",
   "execution_count": null,
   "id": "cd21e362",
   "metadata": {},
   "outputs": [],
   "source": []
  }
 ],
 "metadata": {
  "kernelspec": {
   "display_name": "Python 3 (ipykernel)",
   "language": "python",
   "name": "python3"
  },
  "language_info": {
   "codemirror_mode": {
    "name": "ipython",
    "version": 3
   },
   "file_extension": ".py",
   "mimetype": "text/x-python",
   "name": "python",
   "nbconvert_exporter": "python",
   "pygments_lexer": "ipython3",
   "version": "3.11.4"
  }
 },
 "nbformat": 4,
 "nbformat_minor": 5
}
